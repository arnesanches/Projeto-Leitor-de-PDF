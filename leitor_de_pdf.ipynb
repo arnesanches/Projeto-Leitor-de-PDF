{
 "cells": [
  {
   "cell_type": "markdown",
   "metadata": {},
   "source": [
    "##### Desenvolvimento de um Leitor de PDF com Llama Index e Llama Parse"
   ]
  }
 ],
 "metadata": {
  "language_info": {
   "name": "python"
  }
 },
 "nbformat": 4,
 "nbformat_minor": 2
}
