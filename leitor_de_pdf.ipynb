{
 "cells": [
  {
   "cell_type": "markdown",
   "metadata": {},
   "source": [
    "##### Desenvolvimento de um Leitor de PDF com Llama Index e Llama Parse"
   ]
  },
  {
   "cell_type": "code",
   "execution_count": 7,
   "metadata": {},
   "outputs": [
    {
     "name": "stdout",
     "output_type": "stream",
     "text": [
      "Started parsing the file under job_id f8aa8803-6c3b-43cd-9481-e87ee95ea806\n",
      "29\n"
     ]
    }
   ],
   "source": [
    "import os\n",
    "\n",
    "os.environ[\"LLAMA_CLOUD_API_KEY\"] = \"llx-Gw22oVhcymgdrVmNGsG8i6tzDgegIrnZT34p9pkzyW4o2RmV\"\n",
    "\n",
    "import nest_asyncio\n",
    "nest_asyncio.apply()\n",
    "\n",
    "from llama_parse import LlamaParse\n",
    "\n",
    "documentos = LlamaParse(result_type=\"markdown\", parsing_instruction=\"this file contains text and tables, I'd like to get only tables from the text\").load_data(\"resultado.pdf\")\n",
    "\n",
    "print(len(documentos))\n",
    "\n",
    "for i, pagina in enumerate(documentos):\n",
    "    with open(f\"meu_pdf/página{i+1}.md\", \"w\", encoding=\"utf-8\") as arquivo:\n",
    "        arquivo.write(pagina.text)\n",
    "    \n"
   ]
  }
 ],
 "metadata": {
  "kernelspec": {
   "display_name": "Python 3",
   "language": "python",
   "name": "python3"
  },
  "language_info": {
   "codemirror_mode": {
    "name": "ipython",
    "version": 3
   },
   "file_extension": ".py",
   "mimetype": "text/x-python",
   "name": "python",
   "nbconvert_exporter": "python",
   "pygments_lexer": "ipython3",
   "version": "3.12.4"
  }
 },
 "nbformat": 4,
 "nbformat_minor": 2
}
