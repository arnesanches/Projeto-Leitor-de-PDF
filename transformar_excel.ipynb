{
 "cells": [
  {
   "cell_type": "code",
   "execution_count": 4,
   "metadata": {},
   "outputs": [
    {
     "name": "stdout",
     "output_type": "stream",
     "text": [
      "Here is the extracted table from the provided text:\n",
      "\n",
      "**Tabela 1 - Principais indicadores**\n",
      "\n",
      "| Indicadores                                                                 | R$ milhões | 1T24    | 4T23    | 1T23    | 1T24 X 4T23 | 1T24 X 1T23 |\n",
      "|-----------------------------------------------------------------------------|------------|---------|---------|---------|-------------|-------------|\n",
      "| Receita de vendas                                                           |            | 117.721 | 134.258 | 139.068 | (12,3)     | (15,4)     |\n",
      "| Lucro bruto                                                                 |            | 60.701  | 72.626  | 73.311  | (16,4)     | (17,2)     |\n",
      "| Despesas operacionais                                                       |            | (16.217)| (32.655)| (13.295)| (50,3)     | 22,0       |\n",
      "| Lucro líquido (Prejuízo) - Acionistas Petrobras                            |            | 23.700  | 31.043  | 38.156  | (23,7)     | (37,9)     |\n",
      "| Lucro líquido (Prejuízo) recorrente - Acionistas Petrobras *               |            | 23.873  | 40.986  | 38.419  | (41,8)     | (37,9)     |\n",
      "| Fluxo de caixa operacional                                                  |            | 46.481  | 57.658  | 53.759  | (19,4)     | (13,5)     |\n",
      "| Fluxo de caixa livre                                                        |            | 32.428  | 39.854  | 41.126  | (18,6)     | (21,1)     |\n",
      "| EBITDA ajustado                                                             |            | 60.044  | 66.852  | 72.497  | (10,2)     | (17,2)     |\n",
      "| EBITDA ajustado recorrente *                                                |            | 61.523  | 74.265  | 75.613  | (17,2)     | (18,6)     |\n",
      "| Dívida bruta (US$ milhões)                                                |            | 61.838  | 62.600  | 53.349  | (1,2)      | 15,9       |\n",
      "| Dívida líquida (US$ milhões)                                              |            | 43.646  | 44.698  | 37.588  | (2,4)      | 16,1       |\n",
      "| Dívida líquida/LTM EBITDA Ajustado (x) **                                 |            | 0,86    | 0,85    | 0,58    | 1,2        | 48,3       |\n",
      "| Dólar médio de venda                                                       |            | 4,95    | 4,95    | 5,19    | −          | (4,6)      |\n",
      "| Brent (US$/bbl)                                                            |            | 83,24   | 84,05   | 81,27   | (1,0)      | 2,4        |\n",
      "| Preço derivados básicos - Mercado interno (R$/bbl)                         |            | 476,14  | 516,70  | 568,99  | (7,8)      | (16,3)     |\n",
      "| TAR (Taxa de acidentes registrados por milhão de homens-hora)             |            | 0,61    | 0,80    | 0,77    | (23,8)     | (20,8)     |\n",
      "| ROCE (Retorno sobre o Capital Empregado)                                   |            | 10,4%   | 11,2%   | 15,7%   | -0,8 p.p.  | -5,3 p.p.  |\n",
      "\n",
      "* * Vide reconciliação do Lucro líquido e EBITDA Ajustado excluindo itens especiais.\n",
      "* ** índice calculado utilizando o endividamento em dólares norte-americanos.\n"
     ]
    }
   ],
   "source": [
    "import re\n",
    "import pandas as pd\n",
    "\n",
    "pasta_paginas = \"meu_pdf\"\n",
    "\n",
    "with open(\"meu_pdf/página3.md\", \"r\", encoding=\"utf-8\") as arquivo:\n",
    "    texto = arquivo.read()\n",
    "print(texto)"
   ]
  }
 ],
 "metadata": {
  "kernelspec": {
   "display_name": "Python 3",
   "language": "python",
   "name": "python3"
  },
  "language_info": {
   "codemirror_mode": {
    "name": "ipython",
    "version": 3
   },
   "file_extension": ".py",
   "mimetype": "text/x-python",
   "name": "python",
   "nbconvert_exporter": "python",
   "pygments_lexer": "ipython3",
   "version": "3.12.4"
  }
 },
 "nbformat": 4,
 "nbformat_minor": 2
}
